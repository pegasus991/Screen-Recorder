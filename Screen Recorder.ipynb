{
 "cells": [
  {
   "cell_type": "code",
   "execution_count": 6,
   "metadata": {},
   "outputs": [
    {
     "name": "stdout",
     "output_type": "stream",
     "text": [
      "Enter the path where you want to save the recording : C:\\Users\\ultra_instinct\\Videos\\Captures\\output.avi\n"
     ]
    }
   ],
   "source": [
    "#Importing libraries\n",
    "import cv2\n",
    "import pyautogui as p\n",
    "import numpy as np\n",
    "\n",
    "#Capturing the screen resolution\n",
    "reso=p.size()\n",
    "\n",
    "#Path where we want to save the video and the name by which we want to store it\n",
    "f_name_path=input(\"Enter the path where you want to save the recording : \")\n",
    "\n",
    "#Fix the FPS\n",
    "fps=30.0\n",
    "\n",
    "fourcc=cv2.VideoWriter_fourcc(*\"XVID\")\n",
    "output=cv2.VideoWriter(f_name_path,fourcc,fps,reso)\n",
    "\n",
    "#Create a recording window and resizing it\n",
    "cv2.namedWindow(\"Live Recording\",cv2.WINDOW_NORMAL) #The window should be normal and the name of window is live recording\n",
    "cv2.resizeWindow(\"Live Recording\",(600,480))\n",
    "\n",
    "while True:\n",
    "    img=p.screenshot() #Takes continous screenshots\n",
    "    f=np.array(img) #Converts images to arrays\n",
    "    f=cv2.cvtColor(f,cv2.COLOR_BGR2RGB) #Opencv reads images in BGR format but we humans/Computers see it in RGB format\n",
    "    \n",
    "    #Rest all steps same as capturing a video and saving it\n",
    "    output.write(f)\n",
    "    cv2.imshow(\"Live Recording\",f)\n",
    "    \n",
    "    if(cv2.waitKey(1) & 0xFF==ord('q')):\n",
    "        break\n",
    "\n",
    "output.release()\n",
    "cv2.destroyAllWindows()"
   ]
  },
  {
   "cell_type": "code",
   "execution_count": null,
   "metadata": {},
   "outputs": [],
   "source": []
  }
 ],
 "metadata": {
  "kernelspec": {
   "display_name": "Python 3",
   "language": "python",
   "name": "python3"
  },
  "language_info": {
   "codemirror_mode": {
    "name": "ipython",
    "version": 3
   },
   "file_extension": ".py",
   "mimetype": "text/x-python",
   "name": "python",
   "nbconvert_exporter": "python",
   "pygments_lexer": "ipython3",
   "version": "3.8.3"
  }
 },
 "nbformat": 4,
 "nbformat_minor": 4
}
